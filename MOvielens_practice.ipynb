{
  "nbformat": 4,
  "nbformat_minor": 0,
  "metadata": {
    "colab": {
      "name": "MOvielens_practice.ipynb",
      "provenance": [],
      "collapsed_sections": []
    },
    "kernelspec": {
      "name": "python3",
      "display_name": "Python 3"
    },
    "language_info": {
      "name": "python"
    }
  },
  "cells": [
    {
      "cell_type": "code",
      "execution_count": 1,
      "metadata": {
        "colab": {
          "base_uri": "https://localhost:8080/"
        },
        "id": "-mAvNVNj6-h4",
        "outputId": "002545b0-a585-4875-b4ef-d884b8f2b6a9"
      },
      "outputs": [
        {
          "output_type": "stream",
          "name": "stdout",
          "text": [
            "Cloning into 'Movielens_EDA'...\n",
            "remote: Enumerating objects: 14, done.\u001b[K\n",
            "remote: Counting objects: 100% (14/14), done.\u001b[K\n",
            "remote: Compressing objects: 100% (11/11), done.\u001b[K\n",
            "remote: Total 14 (delta 0), reused 0 (delta 0), pack-reused 0\u001b[K\n",
            "Unpacking objects: 100% (14/14), done.\n"
          ]
        }
      ],
      "source": [
        "!git clone https://github.com/mahajan07/Movielens_EDA.git"
      ]
    },
    {
      "cell_type": "code",
      "source": [
        "import numpy as np\n",
        "import pandas as pd\n",
        "import matplotlib.pyplot as plt\n",
        "import seaborn as sns\n",
        "%matplotlib inline\n",
        "\n",
        "# Filtering Warnings\n",
        "import warnings\n",
        "warnings.filterwarnings(\"ignore\")"
      ],
      "metadata": {
        "id": "bUxV2Kqg7DAC"
      },
      "execution_count": 4,
      "outputs": []
    },
    {
      "cell_type": "code",
      "source": [
        "# Loading dataset into DF - dat format\n",
        "# A file with the DAT file extension is usually a generic data file that stores information specific to the application it refers to.\n",
        "\n",
        "movies   = pd.read_csv(\"/content/Movielens_EDA/Dataset/movies.dat\" , sep = \"::\", header = None, names = [\"MID\", \"title\", \"genre\"])\n",
        "ratings  = pd.read_csv(\"/content/Movielens_EDA/Dataset/ratings.dat\", sep = \"::\", header = None, names = [\"UID\", \"MID\", \"rating\", \"timestamp\"])\n",
        "users    = pd.read_csv(\"/content/Movielens_EDA/Dataset/users.dat\"  , sep = \"::\", header = None, names = [\"UID\", \"gender\", \"age\", \"occu\", \"zipcode\"])"
      ],
      "metadata": {
        "id": "9M0rhTgK7KwG"
      },
      "execution_count": 24,
      "outputs": []
    },
    {
      "cell_type": "code",
      "source": [
        "print(\"Movies shape  >>\",movies.shape)\n",
        "print(\"__\"*20)\n",
        "print(\"Ratings shape >>\",ratings.shape)\n",
        "print(\"__\"*20)\n",
        "print(\"Users shape   >>\",users.shape)\n",
        "print(\"__\"*20)\n"
      ],
      "metadata": {
        "colab": {
          "base_uri": "https://localhost:8080/"
        },
        "id": "62dvklU27YEt",
        "outputId": "90e28dbe-d466-449a-d86e-8e01b8cb729d"
      },
      "execution_count": 31,
      "outputs": [
        {
          "output_type": "stream",
          "name": "stdout",
          "text": [
            "Movies shape  >> (3883, 3)\n",
            "________________________________________\n",
            "Ratings shape >> (1000209, 4)\n",
            "________________________________________\n",
            "Users shape   >> (6040, 5)\n",
            "________________________________________\n"
          ]
        }
      ]
    },
    {
      "cell_type": "code",
      "source": [
        "print(\"Movies Stats  >>\",movies.describe().transpose())\n",
        "print(\"__\"*30)\n",
        "print(\"Ratings Stats >>\",ratings.describe().transpose())\n",
        "print(\"__\"*30)\n",
        "print(\"Users Stats   >>\",users.describe().transpose())\n",
        "print(\"__\"*30)"
      ],
      "metadata": {
        "colab": {
          "base_uri": "https://localhost:8080/"
        },
        "id": "3Obtryrj8ouW",
        "outputId": "1acd3e2d-72a1-4d09-a98e-cce58b936241"
      },
      "execution_count": 39,
      "outputs": [
        {
          "output_type": "stream",
          "name": "stdout",
          "text": [
            "Movies Stats  >>       count         mean          std  min    25%     50%     75%     max\n",
            "MID  3883.0  1986.049446  1146.778349  1.0  982.5  2010.0  2980.5  3952.0\n",
            "____________________________________________________________\n",
            "Ratings Stats >>                count          mean  ...          75%           max\n",
            "UID        1000209.0  3.024512e+03  ...       4476.0  6.040000e+03\n",
            "MID        1000209.0  1.865540e+03  ...       2770.0  3.952000e+03\n",
            "rating     1000209.0  3.581564e+00  ...          4.0  5.000000e+00\n",
            "timestamp  1000209.0  9.722437e+08  ...  975220939.0  1.046455e+09\n",
            "\n",
            "[4 rows x 8 columns]\n",
            "____________________________________________________________\n",
            "Users Stats   >>        count         mean          std  min      25%     50%      75%     max\n",
            "UID   6040.0  3020.500000  1743.742145  1.0  1510.75  3020.5  4530.25  6040.0\n",
            "age   6040.0    30.639238    12.895962  1.0    25.00    25.0    35.00    56.0\n",
            "occu  6040.0     8.146854     6.329511  0.0     3.00     7.0    14.00    20.0\n",
            "____________________________________________________________\n"
          ]
        }
      ]
    },
    {
      "cell_type": "code",
      "source": [
        "# Meging Dataset on MID and UIDS\n",
        "m_r   = pd.merge(movies, ratings, on = \"MID\")\n",
        "m_r_u = pd.merge(m_r, users, on = \"UID\")"
      ],
      "metadata": {
        "id": "DpXnpLrO_zzq"
      },
      "execution_count": 42,
      "outputs": []
    },
    {
      "cell_type": "code",
      "source": [
        "combine_df = m_r_u"
      ],
      "metadata": {
        "id": "FFTvUmG9Bdfc"
      },
      "execution_count": 44,
      "outputs": []
    },
    {
      "cell_type": "code",
      "source": [
        "combine_df"
      ],
      "metadata": {
        "colab": {
          "base_uri": "https://localhost:8080/",
          "height": 424
        },
        "id": "Ih3HKh2IBfJ5",
        "outputId": "890bace4-0465-4650-e6e5-3aaa141c6ba3"
      },
      "execution_count": 47,
      "outputs": [
        {
          "output_type": "execute_result",
          "data": {
            "text/html": [
              "\n",
              "  <div id=\"df-9179e86e-45f0-4bb6-b2b0-b06ccffa7cbd\">\n",
              "    <div class=\"colab-df-container\">\n",
              "      <div>\n",
              "<style scoped>\n",
              "    .dataframe tbody tr th:only-of-type {\n",
              "        vertical-align: middle;\n",
              "    }\n",
              "\n",
              "    .dataframe tbody tr th {\n",
              "        vertical-align: top;\n",
              "    }\n",
              "\n",
              "    .dataframe thead th {\n",
              "        text-align: right;\n",
              "    }\n",
              "</style>\n",
              "<table border=\"1\" class=\"dataframe\">\n",
              "  <thead>\n",
              "    <tr style=\"text-align: right;\">\n",
              "      <th></th>\n",
              "      <th>MID</th>\n",
              "      <th>title</th>\n",
              "      <th>genre</th>\n",
              "      <th>UID</th>\n",
              "      <th>rating</th>\n",
              "      <th>timestamp</th>\n",
              "      <th>gender</th>\n",
              "      <th>age</th>\n",
              "      <th>occu</th>\n",
              "      <th>zipcode</th>\n",
              "    </tr>\n",
              "  </thead>\n",
              "  <tbody>\n",
              "    <tr>\n",
              "      <th>0</th>\n",
              "      <td>1</td>\n",
              "      <td>Toy Story (1995)</td>\n",
              "      <td>Animation|Children's|Comedy</td>\n",
              "      <td>1</td>\n",
              "      <td>5</td>\n",
              "      <td>978824268</td>\n",
              "      <td>F</td>\n",
              "      <td>1</td>\n",
              "      <td>10</td>\n",
              "      <td>48067</td>\n",
              "    </tr>\n",
              "    <tr>\n",
              "      <th>1</th>\n",
              "      <td>48</td>\n",
              "      <td>Pocahontas (1995)</td>\n",
              "      <td>Animation|Children's|Musical|Romance</td>\n",
              "      <td>1</td>\n",
              "      <td>5</td>\n",
              "      <td>978824351</td>\n",
              "      <td>F</td>\n",
              "      <td>1</td>\n",
              "      <td>10</td>\n",
              "      <td>48067</td>\n",
              "    </tr>\n",
              "    <tr>\n",
              "      <th>2</th>\n",
              "      <td>150</td>\n",
              "      <td>Apollo 13 (1995)</td>\n",
              "      <td>Drama</td>\n",
              "      <td>1</td>\n",
              "      <td>5</td>\n",
              "      <td>978301777</td>\n",
              "      <td>F</td>\n",
              "      <td>1</td>\n",
              "      <td>10</td>\n",
              "      <td>48067</td>\n",
              "    </tr>\n",
              "    <tr>\n",
              "      <th>3</th>\n",
              "      <td>260</td>\n",
              "      <td>Star Wars: Episode IV - A New Hope (1977)</td>\n",
              "      <td>Action|Adventure|Fantasy|Sci-Fi</td>\n",
              "      <td>1</td>\n",
              "      <td>4</td>\n",
              "      <td>978300760</td>\n",
              "      <td>F</td>\n",
              "      <td>1</td>\n",
              "      <td>10</td>\n",
              "      <td>48067</td>\n",
              "    </tr>\n",
              "    <tr>\n",
              "      <th>4</th>\n",
              "      <td>527</td>\n",
              "      <td>Schindler's List (1993)</td>\n",
              "      <td>Drama|War</td>\n",
              "      <td>1</td>\n",
              "      <td>5</td>\n",
              "      <td>978824195</td>\n",
              "      <td>F</td>\n",
              "      <td>1</td>\n",
              "      <td>10</td>\n",
              "      <td>48067</td>\n",
              "    </tr>\n",
              "    <tr>\n",
              "      <th>...</th>\n",
              "      <td>...</td>\n",
              "      <td>...</td>\n",
              "      <td>...</td>\n",
              "      <td>...</td>\n",
              "      <td>...</td>\n",
              "      <td>...</td>\n",
              "      <td>...</td>\n",
              "      <td>...</td>\n",
              "      <td>...</td>\n",
              "      <td>...</td>\n",
              "    </tr>\n",
              "    <tr>\n",
              "      <th>1000204</th>\n",
              "      <td>3513</td>\n",
              "      <td>Rules of Engagement (2000)</td>\n",
              "      <td>Drama|Thriller</td>\n",
              "      <td>5727</td>\n",
              "      <td>4</td>\n",
              "      <td>958489970</td>\n",
              "      <td>M</td>\n",
              "      <td>25</td>\n",
              "      <td>4</td>\n",
              "      <td>92843</td>\n",
              "    </tr>\n",
              "    <tr>\n",
              "      <th>1000205</th>\n",
              "      <td>3535</td>\n",
              "      <td>American Psycho (2000)</td>\n",
              "      <td>Comedy|Horror|Thriller</td>\n",
              "      <td>5727</td>\n",
              "      <td>2</td>\n",
              "      <td>958489970</td>\n",
              "      <td>M</td>\n",
              "      <td>25</td>\n",
              "      <td>4</td>\n",
              "      <td>92843</td>\n",
              "    </tr>\n",
              "    <tr>\n",
              "      <th>1000206</th>\n",
              "      <td>3536</td>\n",
              "      <td>Keeping the Faith (2000)</td>\n",
              "      <td>Comedy|Romance</td>\n",
              "      <td>5727</td>\n",
              "      <td>5</td>\n",
              "      <td>958489902</td>\n",
              "      <td>M</td>\n",
              "      <td>25</td>\n",
              "      <td>4</td>\n",
              "      <td>92843</td>\n",
              "    </tr>\n",
              "    <tr>\n",
              "      <th>1000207</th>\n",
              "      <td>3555</td>\n",
              "      <td>U-571 (2000)</td>\n",
              "      <td>Action|Thriller</td>\n",
              "      <td>5727</td>\n",
              "      <td>3</td>\n",
              "      <td>958490699</td>\n",
              "      <td>M</td>\n",
              "      <td>25</td>\n",
              "      <td>4</td>\n",
              "      <td>92843</td>\n",
              "    </tr>\n",
              "    <tr>\n",
              "      <th>1000208</th>\n",
              "      <td>3578</td>\n",
              "      <td>Gladiator (2000)</td>\n",
              "      <td>Action|Drama</td>\n",
              "      <td>5727</td>\n",
              "      <td>5</td>\n",
              "      <td>958490171</td>\n",
              "      <td>M</td>\n",
              "      <td>25</td>\n",
              "      <td>4</td>\n",
              "      <td>92843</td>\n",
              "    </tr>\n",
              "  </tbody>\n",
              "</table>\n",
              "<p>1000209 rows × 10 columns</p>\n",
              "</div>\n",
              "      <button class=\"colab-df-convert\" onclick=\"convertToInteractive('df-9179e86e-45f0-4bb6-b2b0-b06ccffa7cbd')\"\n",
              "              title=\"Convert this dataframe to an interactive table.\"\n",
              "              style=\"display:none;\">\n",
              "        \n",
              "  <svg xmlns=\"http://www.w3.org/2000/svg\" height=\"24px\"viewBox=\"0 0 24 24\"\n",
              "       width=\"24px\">\n",
              "    <path d=\"M0 0h24v24H0V0z\" fill=\"none\"/>\n",
              "    <path d=\"M18.56 5.44l.94 2.06.94-2.06 2.06-.94-2.06-.94-.94-2.06-.94 2.06-2.06.94zm-11 1L8.5 8.5l.94-2.06 2.06-.94-2.06-.94L8.5 2.5l-.94 2.06-2.06.94zm10 10l.94 2.06.94-2.06 2.06-.94-2.06-.94-.94-2.06-.94 2.06-2.06.94z\"/><path d=\"M17.41 7.96l-1.37-1.37c-.4-.4-.92-.59-1.43-.59-.52 0-1.04.2-1.43.59L10.3 9.45l-7.72 7.72c-.78.78-.78 2.05 0 2.83L4 21.41c.39.39.9.59 1.41.59.51 0 1.02-.2 1.41-.59l7.78-7.78 2.81-2.81c.8-.78.8-2.07 0-2.86zM5.41 20L4 18.59l7.72-7.72 1.47 1.35L5.41 20z\"/>\n",
              "  </svg>\n",
              "      </button>\n",
              "      \n",
              "  <style>\n",
              "    .colab-df-container {\n",
              "      display:flex;\n",
              "      flex-wrap:wrap;\n",
              "      gap: 12px;\n",
              "    }\n",
              "\n",
              "    .colab-df-convert {\n",
              "      background-color: #E8F0FE;\n",
              "      border: none;\n",
              "      border-radius: 50%;\n",
              "      cursor: pointer;\n",
              "      display: none;\n",
              "      fill: #1967D2;\n",
              "      height: 32px;\n",
              "      padding: 0 0 0 0;\n",
              "      width: 32px;\n",
              "    }\n",
              "\n",
              "    .colab-df-convert:hover {\n",
              "      background-color: #E2EBFA;\n",
              "      box-shadow: 0px 1px 2px rgba(60, 64, 67, 0.3), 0px 1px 3px 1px rgba(60, 64, 67, 0.15);\n",
              "      fill: #174EA6;\n",
              "    }\n",
              "\n",
              "    [theme=dark] .colab-df-convert {\n",
              "      background-color: #3B4455;\n",
              "      fill: #D2E3FC;\n",
              "    }\n",
              "\n",
              "    [theme=dark] .colab-df-convert:hover {\n",
              "      background-color: #434B5C;\n",
              "      box-shadow: 0px 1px 3px 1px rgba(0, 0, 0, 0.15);\n",
              "      filter: drop-shadow(0px 1px 2px rgba(0, 0, 0, 0.3));\n",
              "      fill: #FFFFFF;\n",
              "    }\n",
              "  </style>\n",
              "\n",
              "      <script>\n",
              "        const buttonEl =\n",
              "          document.querySelector('#df-9179e86e-45f0-4bb6-b2b0-b06ccffa7cbd button.colab-df-convert');\n",
              "        buttonEl.style.display =\n",
              "          google.colab.kernel.accessAllowed ? 'block' : 'none';\n",
              "\n",
              "        async function convertToInteractive(key) {\n",
              "          const element = document.querySelector('#df-9179e86e-45f0-4bb6-b2b0-b06ccffa7cbd');\n",
              "          const dataTable =\n",
              "            await google.colab.kernel.invokeFunction('convertToInteractive',\n",
              "                                                     [key], {});\n",
              "          if (!dataTable) return;\n",
              "\n",
              "          const docLinkHtml = 'Like what you see? Visit the ' +\n",
              "            '<a target=\"_blank\" href=https://colab.research.google.com/notebooks/data_table.ipynb>data table notebook</a>'\n",
              "            + ' to learn more about interactive tables.';\n",
              "          element.innerHTML = '';\n",
              "          dataTable['output_type'] = 'display_data';\n",
              "          await google.colab.output.renderOutput(dataTable, element);\n",
              "          const docLink = document.createElement('div');\n",
              "          docLink.innerHTML = docLinkHtml;\n",
              "          element.appendChild(docLink);\n",
              "        }\n",
              "      </script>\n",
              "    </div>\n",
              "  </div>\n",
              "  "
            ],
            "text/plain": [
              "          MID                                      title  ... occu  zipcode\n",
              "0           1                           Toy Story (1995)  ...   10    48067\n",
              "1          48                          Pocahontas (1995)  ...   10    48067\n",
              "2         150                           Apollo 13 (1995)  ...   10    48067\n",
              "3         260  Star Wars: Episode IV - A New Hope (1977)  ...   10    48067\n",
              "4         527                    Schindler's List (1993)  ...   10    48067\n",
              "...       ...                                        ...  ...  ...      ...\n",
              "1000204  3513                 Rules of Engagement (2000)  ...    4    92843\n",
              "1000205  3535                     American Psycho (2000)  ...    4    92843\n",
              "1000206  3536                   Keeping the Faith (2000)  ...    4    92843\n",
              "1000207  3555                               U-571 (2000)  ...    4    92843\n",
              "1000208  3578                           Gladiator (2000)  ...    4    92843\n",
              "\n",
              "[1000209 rows x 10 columns]"
            ]
          },
          "metadata": {},
          "execution_count": 47
        }
      ]
    },
    {
      "cell_type": "code",
      "source": [
        "# Stats of Combine Df\n",
        "print(\"Unique Movie IDs Sum\")\n",
        "print(combine_df['MID'].nunique())\n",
        "print(\"---\"*20)\n",
        "\n",
        "print(\"Unique genre IDs and counts \")\n",
        "genre = pd.DataFrame(combine_df[\"genre\"].str.split(\"|\").tolist()).stack().value_counts()\n",
        "print(genre)\n",
        "print(\"---\"*20)\n",
        "\n",
        "print(\"Unique User IDs\")\n",
        "print(combine_df['UID'].nunique())\n",
        "print(\"---\"*20)\n",
        "\n",
        "print(\"Unique rating Values\")\n",
        "print(combine_df['rating'].unique())\n",
        "print(\"---\"*20)\n",
        "\n",
        "print(\"Unique Ages and Distinct vals\")\n",
        "print(combine_df['age'].nunique())\n",
        "print(combine_df['age'].unique())\n",
        "print(\"---\"*20)"
      ],
      "metadata": {
        "colab": {
          "base_uri": "https://localhost:8080/"
        },
        "id": "FWaSM4YcB_9S",
        "outputId": "b8011970-7eb1-4fc8-a334-4dad26eb440b"
      },
      "execution_count": 102,
      "outputs": [
        {
          "output_type": "stream",
          "name": "stdout",
          "text": [
            "Unique Movie IDs Sum\n",
            "3706\n",
            "------------------------------------------------------------\n",
            "Unique genre IDs and counts \n",
            "Comedy         356580\n",
            "Drama          354529\n",
            "Action         257457\n",
            "Thriller       189680\n",
            "Sci-Fi         157294\n",
            "Romance        147523\n",
            "Adventure      133953\n",
            "Crime           79541\n",
            "Horror          76386\n",
            "Children's      72186\n",
            "War             68527\n",
            "Animation       43293\n",
            "Musical         41533\n",
            "Mystery         40178\n",
            "Fantasy         36301\n",
            "Western         20683\n",
            "Film-Noir       18261\n",
            "Documentary      7910\n",
            "dtype: int64\n",
            "------------------------------------------------------------\n",
            "Unique User IDs\n",
            "6040\n",
            "------------------------------------------------------------\n",
            "Unique rating Values\n",
            "[5 4 3 2 1]\n",
            "------------------------------------------------------------\n",
            "Unique Ages and Distinct vals\n",
            "7\n",
            "[ 1 50 25 35 18 45 56]\n",
            "------------------------------------------------------------\n"
          ]
        }
      ]
    },
    {
      "cell_type": "code",
      "source": [
        "# Vizualizing Age of Users\n",
        "plt.figure(figsize=(8,6))\n",
        "plt.hist(combine_df[\"age\"]);"
      ],
      "metadata": {
        "colab": {
          "base_uri": "https://localhost:8080/",
          "height": 374
        },
        "id": "RHutjcIeCmyK",
        "outputId": "81810644-9bb5-479b-ce80-e9adb701a71c"
      },
      "execution_count": 107,
      "outputs": [
        {
          "output_type": "display_data",
          "data": {
            "image/png": "[encoded data removed]",
            "text/plain": [
              "<Figure size 576x432 with 1 Axes>"
            ]
          },
          "metadata": {
            "needs_background": "light"
          }
        }
      ]
    },
    {
      "cell_type": "code",
      "source": [
        "# Vizualizing ratings given by Users\n",
        "ct = pd.crosstab(combine_df.rating, combine_df.UID).sum(axis = 1)\n",
        "#from IPython.core.pylabtools import figsize\n",
        "ct.plot.barh(figsize = (10,8), color=['yellow', 'red', 'green', 'blue', 'cyan'] )"
      ],
      "metadata": {
        "colab": {
          "base_uri": "https://localhost:8080/",
          "height": 500
        },
        "id": "w41Z3a5-DYyj",
        "outputId": "2537dc94-de1e-4717-9337-a84dc81f23af"
      },
      "execution_count": 131,
      "outputs": [
        {
          "output_type": "execute_result",
          "data": {
            "text/plain": [
              "<matplotlib.axes._subplots.AxesSubplot at 0x7f830a484d10>"
            ]
          },
          "metadata": {},
          "execution_count": 131
        },
        {
          "output_type": "display_data",
          "data": {
            "image/png": "[encoded data removed]",
            "text/plain": [
              "<Figure size 720x576 with 1 Axes>"
            ]
          },
          "metadata": {
            "needs_background": "light"
          }
        }
      ]
    },
    {
      "cell_type": "code",
      "source": [
        "#combine_df.groupby('rating')['UID'].count().plot(kind='barh')"
      ],
      "metadata": {
        "id": "9jadwJHVDv6x"
      },
      "execution_count": 129,
      "outputs": []
    },
    {
      "cell_type": "code",
      "source": [
        "ct.plot(kind = \"pie\", figsize = (10,10))"
      ],
      "metadata": {
        "colab": {
          "base_uri": "https://localhost:8080/",
          "height": 592
        },
        "id": "7EmQ4k3AEcKj",
        "outputId": "37d8ecb7-401f-4a7f-9900-feacc5d702f1"
      },
      "execution_count": 135,
      "outputs": [
        {
          "output_type": "execute_result",
          "data": {
            "text/plain": [
              "<matplotlib.axes._subplots.AxesSubplot at 0x7f83089aebd0>"
            ]
          },
          "metadata": {},
          "execution_count": 135
        },
        {
          "output_type": "display_data",
          "data": {
            "image/png": "[encoded data removed]",
            "text/plain": [
              "<Figure size 720x720 with 1 Axes>"
            ]
          },
          "metadata": {}
        }
      ]
    },
    {
      "cell_type": "code",
      "source": [
        "# Vizualizing Individual Movie type:\n"
      ],
      "metadata": {
        "id": "5QoccnL7HdLL"
      },
      "execution_count": 136,
      "outputs": []
    },
    {
      "cell_type": "code",
      "source": [
        "ct_tr = pd.crosstab(combine_df.title, combine_df.rating)"
      ],
      "metadata": {
        "id": "kR3R1lFQMCCl"
      },
      "execution_count": 162,
      "outputs": []
    },
    {
      "cell_type": "code",
      "source": [
        "ct_tr[\"Max_ratings\"] = ct_tr.sum(axis = 1)\n",
        "#ct_tr.assign()\n",
        "(ct_tr[ct_tr[\"Max_ratings\"] >= 2000]).nunique()"
      ],
      "metadata": {
        "colab": {
          "base_uri": "https://localhost:8080/",
          "height": 454
        },
        "id": "RjIG_klpS5cg",
        "outputId": "b1d8cd6f-b165-45d2-f111-a46e668a0b88"
      },
      "execution_count": 163,
      "outputs": [
        {
          "output_type": "execute_result",
          "data": {
            "text/html": [
              "\n",
              "  <div id=\"df-c953e8ae-ee9b-419b-b63f-feecf5505992\">\n",
              "    <div class=\"colab-df-container\">\n",
              "      <div>\n",
              "<style scoped>\n",
              "    .dataframe tbody tr th:only-of-type {\n",
              "        vertical-align: middle;\n",
              "    }\n",
              "\n",
              "    .dataframe tbody tr th {\n",
              "        vertical-align: top;\n",
              "    }\n",
              "\n",
              "    .dataframe thead th {\n",
              "        text-align: right;\n",
              "    }\n",
              "</style>\n",
              "<table border=\"1\" class=\"dataframe\">\n",
              "  <thead>\n",
              "    <tr style=\"text-align: right;\">\n",
              "      <th>rating</th>\n",
              "      <th>1</th>\n",
              "      <th>2</th>\n",
              "      <th>3</th>\n",
              "      <th>4</th>\n",
              "      <th>5</th>\n",
              "      <th>Max_ratings</th>\n",
              "    </tr>\n",
              "    <tr>\n",
              "      <th>title</th>\n",
              "      <th></th>\n",
              "      <th></th>\n",
              "      <th></th>\n",
              "      <th></th>\n",
              "      <th></th>\n",
              "      <th></th>\n",
              "    </tr>\n",
              "  </thead>\n",
              "  <tbody>\n",
              "    <tr>\n",
              "      <th>$1,000,000 Duck (1971)</th>\n",
              "      <td>3</td>\n",
              "      <td>8</td>\n",
              "      <td>15</td>\n",
              "      <td>7</td>\n",
              "      <td>4</td>\n",
              "      <td>37</td>\n",
              "    </tr>\n",
              "    <tr>\n",
              "      <th>'Night Mother (1986)</th>\n",
              "      <td>4</td>\n",
              "      <td>10</td>\n",
              "      <td>25</td>\n",
              "      <td>18</td>\n",
              "      <td>13</td>\n",
              "      <td>70</td>\n",
              "    </tr>\n",
              "    <tr>\n",
              "      <th>'Til There Was You (1997)</th>\n",
              "      <td>5</td>\n",
              "      <td>20</td>\n",
              "      <td>15</td>\n",
              "      <td>10</td>\n",
              "      <td>2</td>\n",
              "      <td>52</td>\n",
              "    </tr>\n",
              "    <tr>\n",
              "      <th>'burbs, The (1989)</th>\n",
              "      <td>36</td>\n",
              "      <td>69</td>\n",
              "      <td>107</td>\n",
              "      <td>68</td>\n",
              "      <td>23</td>\n",
              "      <td>303</td>\n",
              "    </tr>\n",
              "    <tr>\n",
              "      <th>...And Justice for All (1979)</th>\n",
              "      <td>2</td>\n",
              "      <td>12</td>\n",
              "      <td>65</td>\n",
              "      <td>82</td>\n",
              "      <td>38</td>\n",
              "      <td>199</td>\n",
              "    </tr>\n",
              "    <tr>\n",
              "      <th>...</th>\n",
              "      <td>...</td>\n",
              "      <td>...</td>\n",
              "      <td>...</td>\n",
              "      <td>...</td>\n",
              "      <td>...</td>\n",
              "      <td>...</td>\n",
              "    </tr>\n",
              "    <tr>\n",
              "      <th>Zed &amp; Two Noughts, A (1985)</th>\n",
              "      <td>2</td>\n",
              "      <td>3</td>\n",
              "      <td>8</td>\n",
              "      <td>13</td>\n",
              "      <td>3</td>\n",
              "      <td>29</td>\n",
              "    </tr>\n",
              "    <tr>\n",
              "      <th>Zero Effect (1998)</th>\n",
              "      <td>7</td>\n",
              "      <td>32</td>\n",
              "      <td>72</td>\n",
              "      <td>108</td>\n",
              "      <td>82</td>\n",
              "      <td>301</td>\n",
              "    </tr>\n",
              "    <tr>\n",
              "      <th>Zero Kelvin (Kj�rlighetens kj�tere) (1995)</th>\n",
              "      <td>0</td>\n",
              "      <td>0</td>\n",
              "      <td>1</td>\n",
              "      <td>1</td>\n",
              "      <td>0</td>\n",
              "      <td>2</td>\n",
              "    </tr>\n",
              "    <tr>\n",
              "      <th>Zeus and Roxanne (1997)</th>\n",
              "      <td>5</td>\n",
              "      <td>6</td>\n",
              "      <td>8</td>\n",
              "      <td>3</td>\n",
              "      <td>1</td>\n",
              "      <td>23</td>\n",
              "    </tr>\n",
              "    <tr>\n",
              "      <th>eXistenZ (1999)</th>\n",
              "      <td>43</td>\n",
              "      <td>61</td>\n",
              "      <td>109</td>\n",
              "      <td>142</td>\n",
              "      <td>55</td>\n",
              "      <td>410</td>\n",
              "    </tr>\n",
              "  </tbody>\n",
              "</table>\n",
              "<p>3706 rows × 6 columns</p>\n",
              "</div>\n",
              "      <button class=\"colab-df-convert\" onclick=\"convertToInteractive('df-c953e8ae-ee9b-419b-b63f-feecf5505992')\"\n",
              "              title=\"Convert this dataframe to an interactive table.\"\n",
              "              style=\"display:none;\">\n",
              "        \n",
              "  <svg xmlns=\"http://www.w3.org/2000/svg\" height=\"24px\"viewBox=\"0 0 24 24\"\n",
              "       width=\"24px\">\n",
              "    <path d=\"M0 0h24v24H0V0z\" fill=\"none\"/>\n",
              "    <path d=\"M18.56 5.44l.94 2.06.94-2.06 2.06-.94-2.06-.94-.94-2.06-.94 2.06-2.06.94zm-11 1L8.5 8.5l.94-2.06 2.06-.94-2.06-.94L8.5 2.5l-.94 2.06-2.06.94zm10 10l.94 2.06.94-2.06 2.06-.94-2.06-.94-.94-2.06-.94 2.06-2.06.94z\"/><path d=\"M17.41 7.96l-1.37-1.37c-.4-.4-.92-.59-1.43-.59-.52 0-1.04.2-1.43.59L10.3 9.45l-7.72 7.72c-.78.78-.78 2.05 0 2.83L4 21.41c.39.39.9.59 1.41.59.51 0 1.02-.2 1.41-.59l7.78-7.78 2.81-2.81c.8-.78.8-2.07 0-2.86zM5.41 20L4 18.59l7.72-7.72 1.47 1.35L5.41 20z\"/>\n",
              "  </svg>\n",
              "      </button>\n",
              "      \n",
              "  <style>\n",
              "    .colab-df-container {\n",
              "      display:flex;\n",
              "      flex-wrap:wrap;\n",
              "      gap: 12px;\n",
              "    }\n",
              "\n",
              "    .colab-df-convert {\n",
              "      background-color: #E8F0FE;\n",
              "      border: none;\n",
              "      border-radius: 50%;\n",
              "      cursor: pointer;\n",
              "      display: none;\n",
              "      fill: #1967D2;\n",
              "      height: 32px;\n",
              "      padding: 0 0 0 0;\n",
              "      width: 32px;\n",
              "    }\n",
              "\n",
              "    .colab-df-convert:hover {\n",
              "      background-color: #E2EBFA;\n",
              "      box-shadow: 0px 1px 2px rgba(60, 64, 67, 0.3), 0px 1px 3px 1px rgba(60, 64, 67, 0.15);\n",
              "      fill: #174EA6;\n",
              "    }\n",
              "\n",
              "    [theme=dark] .colab-df-convert {\n",
              "      background-color: #3B4455;\n",
              "      fill: #D2E3FC;\n",
              "    }\n",
              "\n",
              "    [theme=dark] .colab-df-convert:hover {\n",
              "      background-color: #434B5C;\n",
              "      box-shadow: 0px 1px 3px 1px rgba(0, 0, 0, 0.15);\n",
              "      filter: drop-shadow(0px 1px 2px rgba(0, 0, 0, 0.3));\n",
              "      fill: #FFFFFF;\n",
              "    }\n",
              "  </style>\n",
              "\n",
              "      <script>\n",
              "        const buttonEl =\n",
              "          document.querySelector('#df-c953e8ae-ee9b-419b-b63f-feecf5505992 button.colab-df-convert');\n",
              "        buttonEl.style.display =\n",
              "          google.colab.kernel.accessAllowed ? 'block' : 'none';\n",
              "\n",
              "        async function convertToInteractive(key) {\n",
              "          const element = document.querySelector('#df-c953e8ae-ee9b-419b-b63f-feecf5505992');\n",
              "          const dataTable =\n",
              "            await google.colab.kernel.invokeFunction('convertToInteractive',\n",
              "                                                     [key], {});\n",
              "          if (!dataTable) return;\n",
              "\n",
              "          const docLinkHtml = 'Like what you see? Visit the ' +\n",
              "            '<a target=\"_blank\" href=https://colab.research.google.com/notebooks/data_table.ipynb>data table notebook</a>'\n",
              "            + ' to learn more about interactive tables.';\n",
              "          element.innerHTML = '';\n",
              "          dataTable['output_type'] = 'display_data';\n",
              "          await google.colab.output.renderOutput(dataTable, element);\n",
              "          const docLink = document.createElement('div');\n",
              "          docLink.innerHTML = docLinkHtml;\n",
              "          element.appendChild(docLink);\n",
              "        }\n",
              "      </script>\n",
              "    </div>\n",
              "  </div>\n",
              "  "
            ],
            "text/plain": [
              "rating                                       1   2    3    4   5  Max_ratings\n",
              "title                                                                        \n",
              "$1,000,000 Duck (1971)                       3   8   15    7   4           37\n",
              "'Night Mother (1986)                         4  10   25   18  13           70\n",
              "'Til There Was You (1997)                    5  20   15   10   2           52\n",
              "'burbs, The (1989)                          36  69  107   68  23          303\n",
              "...And Justice for All (1979)                2  12   65   82  38          199\n",
              "...                                         ..  ..  ...  ...  ..          ...\n",
              "Zed & Two Noughts, A (1985)                  2   3    8   13   3           29\n",
              "Zero Effect (1998)                           7  32   72  108  82          301\n",
              "Zero Kelvin (Kj�rlighetens kj�tere) (1995)   0   0    1    1   0            2\n",
              "Zeus and Roxanne (1997)                      5   6    8    3   1           23\n",
              "eXistenZ (1999)                             43  61  109  142  55          410\n",
              "\n",
              "[3706 rows x 6 columns]"
            ]
          },
          "metadata": {},
          "execution_count": 163
        }
      ]
    },
    {
      "cell_type": "code",
      "source": [
        "combine_df.loc[combine_df[\"title\"] == \"American Beauty (1999)\"]\n",
        "mini = pd.DataFrame()\n",
        "mini['user'] = np.where(((combine_df['title'] == 'American Beauty (1999)') & (combine_df['rating'] == 5 )))"
      ],
      "metadata": {
        "id": "Tfh2L-UcXUAY"
      },
      "execution_count": null,
      "outputs": []
    },
    {
      "cell_type": "code",
      "source": [
        "# Finding ratings of all movies and selecting for Viz:\n",
        "var = ct_tr[ct_tr[\"Max_ratings\"] >= 2000]\n",
        "print(var)\n",
        "var1 = ct_tr[ct_tr[\"Max_ratings\"] >= 2500]\n",
        "print(var1)"
      ],
      "metadata": {
        "colab": {
          "base_uri": "https://localhost:8080/"
        },
        "id": "D9uPi-DHT0O6",
        "outputId": "2d13f289-8d7a-45fa-be30-b32f92326a6d"
      },
      "execution_count": 159,
      "outputs": [
        {
          "output_type": "stream",
          "name": "stdout",
          "text": [
            "rating                                                1    2  ...     5  Max_ratings\n",
            "title                                                         ...                   \n",
            "Alien (1979)                                         33   71  ...   861         2024\n",
            "American Beauty (1999)                               83  134  ...  1963         3428\n",
            "Back to the Future (1985)                            20  103  ...   791         2583\n",
            "Being John Malkovich (1999)                          69  106  ...  1007         2241\n",
            "Braveheart (1995)                                    37   92  ...  1206         2443\n",
            "E.T. the Extra-Terrestrial (1982)                    33  134  ...   747         2269\n",
            "Fargo (1996)                                         57   85  ...  1278         2513\n",
            "Forrest Gump (1994)                                  54  118  ...   945         2194\n",
            "Ghostbusters (1984)                                  24  106  ...   581         2181\n",
            "Godfather, The (1972)                                18   38  ...  1475         2223\n",
            "Groundhog Day (1993)                                 36  121  ...   703         2278\n",
            "Jurassic Park (1993)                                 62  197  ...   632         2672\n",
            "L.A. Confidential (1997)                             17   61  ...  1009         2288\n",
            "Matrix, The (1999)                                   37  119  ...  1430         2590\n",
            "Men in Black (1997)                                  47  194  ...   522         2538\n",
            "Princess Bride, The (1987)                           22   44  ...  1186         2318\n",
            "Pulp Fiction (1994)                                  47   94  ...  1193         2171\n",
            "Raiders of the Lost Ark (1981)                        4   37  ...  1500         2514\n",
            "Saving Private Ryan (1998)                           25   67  ...  1405         2653\n",
            "Schindler's List (1993)                              19   28  ...  1475         2304\n",
            "Shakespeare in Love (1998)                           37  119  ...   987         2369\n",
            "Shawshank Redemption, The (1994)                      8   25  ...  1457         2227\n",
            "Silence of the Lambs, The (1991)                     37   43  ...  1350         2578\n",
            "Sixth Sense, The (1999)                              16   58  ...  1385         2459\n",
            "Star Wars: Episode I - The Phantom Menace (1999)    143  324  ...   400         2250\n",
            "Star Wars: Episode IV - A New Hope (1977)            19   62  ...  1826         2991\n",
            "Star Wars: Episode V - The Empire Strikes Back ...   22   83  ...  1483         2990\n",
            "Star Wars: Episode VI - Return of the Jedi (1983)    39  128  ...  1028         2883\n",
            "Terminator 2: Judgment Day (1991)                    42   98  ...   942         2649\n",
            "Terminator, The (1984)                               18   61  ...   831         2098\n",
            "Toy Story (1995)                                     16   61  ...   820         2077\n",
            "\n",
            "[31 rows x 6 columns]\n",
            "rating                                               1    2  ...     5  Max_ratings\n",
            "title                                                        ...                   \n",
            "American Beauty (1999)                              83  134  ...  1963         3428\n",
            "Back to the Future (1985)                           20  103  ...   791         2583\n",
            "Fargo (1996)                                        57   85  ...  1278         2513\n",
            "Jurassic Park (1993)                                62  197  ...   632         2672\n",
            "Matrix, The (1999)                                  37  119  ...  1430         2590\n",
            "Men in Black (1997)                                 47  194  ...   522         2538\n",
            "Raiders of the Lost Ark (1981)                       4   37  ...  1500         2514\n",
            "Saving Private Ryan (1998)                          25   67  ...  1405         2653\n",
            "Silence of the Lambs, The (1991)                    37   43  ...  1350         2578\n",
            "Star Wars: Episode IV - A New Hope (1977)           19   62  ...  1826         2991\n",
            "Star Wars: Episode V - The Empire Strikes Back ...  22   83  ...  1483         2990\n",
            "Star Wars: Episode VI - Return of the Jedi (1983)   39  128  ...  1028         2883\n",
            "Terminator 2: Judgment Day (1991)                   42   98  ...   942         2649\n",
            "\n",
            "[13 rows x 6 columns]\n"
          ]
        }
      ]
    },
    {
      "cell_type": "code",
      "source": [
        "# We decided to Vizualize American Beuty of largest rating\n",
        "# and Toystory due to liking of children\n",
        "\n",
        "movieTitles = combine_df.title.unique()\n",
        "toy_sto = []\n",
        "ame_beu = []\n",
        "for i in movieTitles:\n",
        "  if i.startswith(\"Toy\") == True:\n",
        "    toy_sto.append(i)\n",
        "  elif i.startswith(\"American B\") == True:\n",
        "    ame_beu.append(i)\n",
        "\n",
        "print(toy_sto)\n",
        "print(ame_beu)"
      ],
      "metadata": {
        "colab": {
          "base_uri": "https://localhost:8080/"
        },
        "id": "-j7Di35BUXle",
        "outputId": "600ef455-19e4-45fd-ccf0-c7312fee85c2"
      },
      "execution_count": 189,
      "outputs": [
        {
          "output_type": "stream",
          "name": "stdout",
          "text": [
            "['Toy Story (1995)', 'Toy Story 2 (1999)', 'Toys (1992)']\n",
            "['American Beauty (1999)', 'American Buffalo (1996)']\n"
          ]
        }
      ]
    },
    {
      "cell_type": "code",
      "source": [
        "# Filter the movies that yu want to use for Viz\n",
        "filter_ts  =combine_df[combine_df['title']=='Toy Story (1995)']\n",
        "print(filter_ts.groupby('rating')['UID'].count())\n",
        "print(\"---\"*15)\n",
        "\n",
        "filter_ab  =combine_df[combine_df['title']=='American Beauty (1999)']\n",
        "print(filter_ab.groupby('rating')['UID'].count())\n"
      ],
      "metadata": {
        "colab": {
          "base_uri": "https://localhost:8080/"
        },
        "id": "vWrSgNESbpFZ",
        "outputId": "8d0bdc8d-1f0b-435d-e279-fe25834226e1"
      },
      "execution_count": 193,
      "outputs": [
        {
          "output_type": "stream",
          "name": "stdout",
          "text": [
            "rating\n",
            "1     16\n",
            "2     61\n",
            "3    345\n",
            "4    835\n",
            "5    820\n",
            "Name: UID, dtype: int64\n",
            "---------------------------------------------\n",
            "rating\n",
            "1      83\n",
            "2     134\n",
            "3     358\n",
            "4     890\n",
            "5    1963\n",
            "Name: UID, dtype: int64\n"
          ]
        }
      ]
    },
    {
      "cell_type": "code",
      "source": [
        "\n",
        "plt.subplot(1, 2, 1)\n",
        "filter_ts.groupby('rating')['UID'].count().plot(kind='bar',figsize = (8,8), color=['black', 'red', 'green', 'blue', 'orange'])\n",
        "plt.subplot(1, 2, 2)\n",
        "filter_ab.groupby('rating')['UID'].count().plot(kind='bar',figsize = (8,8), color=['black', 'red', 'green', 'blue', 'orange'])"
      ],
      "metadata": {
        "colab": {
          "base_uri": "https://localhost:8080/",
          "height": 510
        },
        "id": "RDN4aC7fdkJo",
        "outputId": "104aef6f-07be-4495-863d-631553b49fd2"
      },
      "execution_count": 200,
      "outputs": [
        {
          "output_type": "execute_result",
          "data": {
            "text/plain": [
              "<matplotlib.axes._subplots.AxesSubplot at 0x7f82d7a14b90>"
            ]
          },
          "metadata": {},
          "execution_count": 200
        },
        {
          "output_type": "display_data",
          "data": {
            "image/png": "[encoded data removed]",
            "text/plain": [
              "<Figure size 576x576 with 2 Axes>"
            ]
          },
          "metadata": {
            "needs_background": "light"
          }
        }
      ]
    },
    {
      "cell_type": "code",
      "source": [
        "# Defining by Age group:\n",
        "plt.subplot(1, 2,1)\n",
        "print(filter_ts.groupby('age')['UID'].count())\n",
        "filter_ts.groupby('age')['UID'].count().plot(kind='barh',figsize = (8,8), color=['black', 'red', 'green', 'blue', 'orange'])\n",
        "plt.subplot(1, 2,2)\n",
        "print(filter_ab.groupby('age')['UID'].count())\n",
        "filter_ab.groupby('age')['UID'].count().plot(kind='barh',figsize = (8,8), color=['black', 'red', 'green', 'blue', 'orange'])"
      ],
      "metadata": {
        "colab": {
          "base_uri": "https://localhost:8080/",
          "height": 813
        },
        "id": "RlaEE9kSfIrt",
        "outputId": "5d024492-d043-4aa9-f334-d1673a58b52b"
      },
      "execution_count": 205,
      "outputs": [
        {
          "output_type": "stream",
          "name": "stdout",
          "text": [
            "age\n",
            "1     112\n",
            "18    448\n",
            "25    790\n",
            "35    423\n",
            "45    143\n",
            "50    108\n",
            "56     53\n",
            "Name: UID, dtype: int64\n",
            "age\n",
            "1       92\n",
            "18     715\n",
            "25    1334\n",
            "35     597\n",
            "45     258\n",
            "50     248\n",
            "56     184\n",
            "Name: UID, dtype: int64\n"
          ]
        },
        {
          "output_type": "execute_result",
          "data": {
            "text/plain": [
              "<matplotlib.axes._subplots.AxesSubplot at 0x7f82d3f82e10>"
            ]
          },
          "metadata": {},
          "execution_count": 205
        },
        {
          "output_type": "display_data",
          "data": {
            "image/png": "[encoded data removed]",
            "text/plain": [
              "<Figure size 576x576 with 2 Axes>"
            ]
          },
          "metadata": {
            "needs_background": "light"
          }
        }
      ]
    },
    {
      "cell_type": "code",
      "source": [
        "# Top Movies\n",
        "combine_df.groupby(\"MID\")['rating'].count().nlargest(25).plot(kind='barh', figsize = (8,8))"
      ],
      "metadata": {
        "colab": {
          "base_uri": "https://localhost:8080/",
          "height": 500
        },
        "id": "1xRp0PcdrktG",
        "outputId": "a46081e3-023f-4086-fb04-0b7877d90f32"
      },
      "execution_count": 210,
      "outputs": [
        {
          "output_type": "execute_result",
          "data": {
            "text/plain": [
              "<matplotlib.axes._subplots.AxesSubplot at 0x7f82c926fc50>"
            ]
          },
          "metadata": {},
          "execution_count": 210
        },
        {
          "output_type": "display_data",
          "data": {
            "image/png": "[encoded data removed]",
            "text/plain": [
              "<Figure size 576x576 with 1 Axes>"
            ]
          },
          "metadata": {
            "needs_background": "light"
          }
        }
      ]
    },
    {
      "cell_type": "code",
      "source": [
        "combine_df.groupby(\"MID\")['rating'].count().nlargest(25)"
      ],
      "metadata": {
        "colab": {
          "base_uri": "https://localhost:8080/"
        },
        "id": "UHPJZ552sVRU",
        "outputId": "35530a46-915b-41b3-9152-0a23a829185e"
      },
      "execution_count": 207,
      "outputs": [
        {
          "output_type": "execute_result",
          "data": {
            "text/plain": [
              "MID\n",
              "2858    3428\n",
              "260     2991\n",
              "1196    2990\n",
              "1210    2883\n",
              "480     2672\n",
              "2028    2653\n",
              "589     2649\n",
              "2571    2590\n",
              "1270    2583\n",
              "593     2578\n",
              "1580    2538\n",
              "1198    2514\n",
              "608     2513\n",
              "2762    2459\n",
              "110     2443\n",
              "2396    2369\n",
              "1197    2318\n",
              "527     2304\n",
              "1617    2288\n",
              "1265    2278\n",
              "1097    2269\n",
              "2628    2250\n",
              "2997    2241\n",
              "318     2227\n",
              "858     2223\n",
              "Name: rating, dtype: int64"
            ]
          },
          "metadata": {},
          "execution_count": 207
        }
      ]
    },
    {
      "cell_type": "code",
      "source": [
        "# random user operation\n",
        "combine_df[combine_df['UID']==1111]"
      ],
      "metadata": {
        "id": "lIo6kRPRsjGm"
      },
      "execution_count": null,
      "outputs": []
    },
    {
      "cell_type": "code",
      "source": [
        "# All rating by particular user on Plot\n",
        "combine_df[combine_df['UID']==1111].groupby(\"rating\")[\"UID\"].count().plot(kind = \"barh\")"
      ],
      "metadata": {
        "colab": {
          "base_uri": "https://localhost:8080/",
          "height": 282
        },
        "id": "3qIkZo-VuLDD",
        "outputId": "6a50b3e2-ab98-4419-f9ef-9cd000f240b1"
      },
      "execution_count": 214,
      "outputs": [
        {
          "output_type": "execute_result",
          "data": {
            "text/plain": [
              "<matplotlib.axes._subplots.AxesSubplot at 0x7f82c9198610>"
            ]
          },
          "metadata": {},
          "execution_count": 214
        },
        {
          "output_type": "display_data",
          "data": {
            "image/png": "[encoded data removed]",
            "text/plain": [
              "<Figure size 432x288 with 1 Axes>"
            ]
          },
          "metadata": {
            "needs_background": "light"
          }
        }
      ]
    },
    {
      "cell_type": "code",
      "source": [
        "combine_df[combine_df['UID']==2121].groupby(\"rating\")[\"UID\"].count().plot(kind = \"barh\")"
      ],
      "metadata": {
        "colab": {
          "base_uri": "https://localhost:8080/",
          "height": 282
        },
        "id": "woxvEVnNuvbu",
        "outputId": "a1c8ebe6-3a9c-4e46-86a2-c4a8aa4d1c93"
      },
      "execution_count": 215,
      "outputs": [
        {
          "output_type": "execute_result",
          "data": {
            "text/plain": [
              "<matplotlib.axes._subplots.AxesSubplot at 0x7f82c951b610>"
            ]
          },
          "metadata": {},
          "execution_count": 215
        },
        {
          "output_type": "display_data",
          "data": {
            "image/png": "[encoded data removed]",
            "text/plain": [
              "<Figure size 432x288 with 1 Axes>"
            ]
          },
          "metadata": {
            "needs_background": "light"
          }
        }
      ]
    },
    {
      "cell_type": "code",
      "source": [
        "# 2121 User Age, Occupation and MID Plots:\n",
        "plt.subplot(1, 3,1)\n",
        "plt.hist(combine_df['MID'],edgecolor='k', color='b')\n",
        "\n",
        "plt.subplot(1, 3,2)\n",
        "plt.hist(combine_df['age'],edgecolor='k', color='r')\n",
        "\n",
        "plt.subplot(1, 3,3)\n",
        "plt.hist(combine_df['occu'],edgecolor='k', color='g')"
      ],
      "metadata": {
        "colab": {
          "base_uri": "https://localhost:8080/",
          "height": 338
        },
        "id": "7kLRzn9Du0I2",
        "outputId": "cdb42618-b739-46aa-e899-705abaf30481"
      },
      "execution_count": 219,
      "outputs": [
        {
          "output_type": "execute_result",
          "data": {
            "text/plain": [
              "(array([215850.,  81691., 152882., 142630.,  14051.,  43853.,  70968.,\n",
              "         72060., 118837.,  87387.]),\n",
              " array([ 0.,  2.,  4.,  6.,  8., 10., 12., 14., 16., 18., 20.]),\n",
              " <a list of 10 Patch objects>)"
            ]
          },
          "metadata": {},
          "execution_count": 219
        },
        {
          "output_type": "display_data",
          "data": {
            "image/png": "[encoded data removed]",
            "text/plain": [
              "<Figure size 432x288 with 3 Axes>"
            ]
          },
          "metadata": {
            "needs_background": "light"
          }
        }
      ]
    },
    {
      "cell_type": "code",
      "source": [
        "plt.hist(combine_df['age'],edgecolor='k', color='r');"
      ],
      "metadata": {
        "colab": {
          "base_uri": "https://localhost:8080/",
          "height": 265
        },
        "id": "UI066QMDvrKq",
        "outputId": "5a82b636-c956-4f73-e3f8-cad370a99db5"
      },
      "execution_count": 223,
      "outputs": [
        {
          "output_type": "display_data",
          "data": {
            "image/png": "[encoded data removed]",
            "text/plain": [
              "<Figure size 432x288 with 1 Axes>"
            ]
          },
          "metadata": {
            "needs_background": "light"
          }
        }
      ]
    },
    {
      "cell_type": "code",
      "source": [
        "# MODELLING\n",
        "\n",
        "features = combine_df.iloc[:500,[0,7,8]].values\n",
        "label    = combine_df.iloc[:500,[4]].values.reshape(-1,1)"
      ],
      "metadata": {
        "id": "ivHMhoqCv68L"
      },
      "execution_count": 224,
      "outputs": []
    },
    {
      "cell_type": "code",
      "source": [
        "from sklearn.model_selection import train_test_split\n",
        "X_train,X_test,y_train,y_test = train_test_split(features, label, test_size=0.25,random_state=42)"
      ],
      "metadata": {
        "id": "MJW35Buiwap5"
      },
      "execution_count": 225,
      "outputs": []
    },
    {
      "cell_type": "code",
      "source": [
        "from sklearn.neighbors import KNeighborsClassifier\n",
        "model  = KNeighborsClassifier(n_neighbors=45)\n",
        "model1 = KNeighborsClassifier(n_neighbors=27)"
      ],
      "metadata": {
        "id": "NO7Pi3qLwl4J"
      },
      "execution_count": 251,
      "outputs": []
    },
    {
      "cell_type": "code",
      "source": [
        "model.fit(X_train,y_train.ravel())"
      ],
      "metadata": {
        "colab": {
          "base_uri": "https://localhost:8080/"
        },
        "id": "pLZjkH-RxT_i",
        "outputId": "7ffd949c-8c14-41a3-b59e-440904b876bb"
      },
      "execution_count": 253,
      "outputs": [
        {
          "output_type": "execute_result",
          "data": {
            "text/plain": [
              "KNeighborsClassifier(n_neighbors=45)"
            ]
          },
          "metadata": {},
          "execution_count": 253
        }
      ]
    },
    {
      "cell_type": "code",
      "source": [
        "model1.fit(X_train,y_train.ravel())"
      ],
      "metadata": {
        "colab": {
          "base_uri": "https://localhost:8080/"
        },
        "id": "6njCo5Mrwm5B",
        "outputId": "1748268a-3343-465b-8692-cea3344a1dd5"
      },
      "execution_count": 254,
      "outputs": [
        {
          "output_type": "execute_result",
          "data": {
            "text/plain": [
              "KNeighborsClassifier(n_neighbors=27)"
            ]
          },
          "metadata": {},
          "execution_count": 254
        }
      ]
    },
    {
      "cell_type": "code",
      "source": [
        "#Train score\n",
        "print(model.score(X_train,y_train))\n",
        "#Test score\n",
        "print(model.score(X_test,y_test))\n",
        "\n",
        "##Acceptable model since the test score is greater than train score. \n",
        "#Thus concludes the fact that the generated model is Generalized model"
      ],
      "metadata": {
        "colab": {
          "base_uri": "https://localhost:8080/"
        },
        "id": "iG4ZgJxtwoMR",
        "outputId": "a28c7713-2fe0-42cb-c65f-b6594fd014ae"
      },
      "execution_count": 255,
      "outputs": [
        {
          "output_type": "stream",
          "name": "stdout",
          "text": [
            "0.42133333333333334\n",
            "0.432\n"
          ]
        }
      ]
    },
    {
      "cell_type": "code",
      "source": [
        "#Train score\n",
        "print(model1.score(X_train,y_train))\n",
        "#Test score\n",
        "print(model1.score(X_test,y_test))"
      ],
      "metadata": {
        "colab": {
          "base_uri": "https://localhost:8080/"
        },
        "id": "MCsjBNXRwx-H",
        "outputId": "eb2da7db-7f25-411f-e01a-213fb7722b47"
      },
      "execution_count": 256,
      "outputs": [
        {
          "output_type": "stream",
          "name": "stdout",
          "text": [
            "0.416\n",
            "0.408\n"
          ]
        }
      ]
    },
    {
      "cell_type": "code",
      "source": [
        ""
      ],
      "metadata": {
        "id": "fXpXTI--xZ_J"
      },
      "execution_count": null,
      "outputs": []
    }
  ]
}